{
  "cells": [
    {
      "cell_type": "code",
      "execution_count": null,
      "metadata": {
        "collapsed": false
      },
      "outputs": [],
      "source": [
        "%matplotlib inline\n",
        "from pyvista import set_plot_theme\n",
        "set_plot_theme('document')\n",
        "\n",
        "!chcp 65001"
      ]
    },
    {
      "cell_type": "code",
      "execution_count": null,
      "metadata": {
        "collapsed": false
      },
      "outputs": [],
      "source": [
        "import matplotlib.pyplot as plt\n",
        "\n",
        "import pyvista as pv\n",
        "from pyvista import examples\n",
        "from stl import mesh\n",
        "# Load an interesting example of geometry\n",
        "mesh = examples.load_random_hills()\n",
        "\n",
        "# Establish geometry within a pv.Plotter()\n",
        "# p = pv.Plotter(off_screen=True)\n",
        "# p.add_mesh(mesh, color=True)\n",
        "# p.store_image = True  # permit image caching after plotter is closed\n",
        "# p.show()\n",
        "\n",
        "p = pv.Plotter()\n",
        "# _=p.pv.Plotter(border_width=5)\n",
        "p.add_mesh(mesh,  color = True)  # lighting = True modifies the texture colors.\n",
        "p.camera.zoom('tight')\n",
        "\n",
        "image = p.screenshot()\n",
        "# p.camera.position = (1.1, 1.5, 0.0)\n",
        "# p.camera.up = (0.0, 1.0, 0.0)\n",
        "# p.camera.zoom(1)\n",
        "# p.camera_position = 'xy'\n",
        "# p.pv.Plotter(border = True)\n",
        "\n",
        "p.show()"
      ]
    },
    {
      "cell_type": "markdown",
      "metadata": {},
      "source": [
        "Record depth image without and with a custom fill value\n"
      ]
    },
    {
      "cell_type": "code",
      "execution_count": null,
      "metadata": {},
      "outputs": [],
      "source": [
        "p.camera.thickness"
      ]
    },
    {
      "cell_type": "code",
      "execution_count": null,
      "metadata": {
        "collapsed": false
      },
      "outputs": [],
      "source": [
        "zval = p.get_image_depth()\n",
        "zval_filled_by_42s = p.get_image_depth(fill_value=10)"
      ]
    },
    {
      "cell_type": "markdown",
      "metadata": {},
      "source": [
        "Visualize depth images\n"
      ]
    },
    {
      "cell_type": "code",
      "execution_count": null,
      "metadata": {
        "collapsed": false
      },
      "outputs": [],
      "source": [
        "plt.figure()\n",
        "plt.imshow(zval , cmap = 'gray')\n",
        "plt.colorbar(label='Distance to Camera')\n",
        "plt.title('Depth image')\n",
        "plt.xlabel('X Pixel')\n",
        "plt.ylabel('Y Pixel')\n",
        "plt.show()"
      ]
    },
    {
      "cell_type": "code",
      "execution_count": null,
      "metadata": {
        "collapsed": false
      },
      "outputs": [],
      "source": [
        "plt.figure()\n",
        "plt.imshow(zval_filled_by_42s)\n",
        "plt.title('Depth image (custom fill_value)')\n",
        "plt.colorbar(label='Distance to Camera')\n",
        "plt.xlabel('X Pixel')\n",
        "plt.ylabel('Y Pixel')\n",
        "plt.show()"
      ]
    },
    {
      "cell_type": "code",
      "execution_count": null,
      "metadata": {},
      "outputs": [],
      "source": [
        "mesh = examples.load_random_hills()\n",
        "\n",
        "# # Establish geometry within a pv.Plotter()\n",
        "# # p = pv.Plotter(off_screen=True)\n",
        "# # p.add_mesh(mesh, color=True)\n",
        "# # p.store_image = True  # permit image caching after plotter is closed\n",
        "# # p.show()\n",
        "\n",
        "# p = pv.Plotter(off_screen=True)\n",
        "# p.add_mesh(mesh,  color = True)  # lighting = True modifies the texture colors.\n",
        "# image = p.screenshot()\n",
        "# p.show()"
      ]
    },
    {
      "cell_type": "code",
      "execution_count": null,
      "metadata": {},
      "outputs": [],
      "source": [
        "msh = pv.read(\"C:\\\\Users\\\\Toru Kobayashi\\\\Desktop\\\\featuretype.STL\")\n",
        "p= pv.Plotter(off_screen=True)\n",
        "p.add_mesh(msh,color = True)\n",
        "image =p.screenshot()\n",
        "p.show()"
      ]
    },
    {
      "cell_type": "code",
      "execution_count": null,
      "metadata": {},
      "outputs": [],
      "source": [
        "zval = p.get_image_depth(reset_camera_clipping_range=0)\n",
        "\n",
        "plt.figure()\n",
        "plt.imshow(zval , cmap = \"gray\")\n",
        "plt.colorbar(label='Distance to Camera')\n",
        "plt.title('Depth image')\n",
        "plt.xlabel('X Pixel')\n",
        "plt.ylabel('Y Pixel')\n",
        "plt.show()"
      ]
    },
    {
      "cell_type": "code",
      "execution_count": null,
      "metadata": {},
      "outputs": [],
      "source": [
        "zval = p.get_image_depth(reset_camera_clipping_range=(50,1))\n",
        "\n",
        "plt.figure()\n",
        "plt.imshow(zval , cmap = \"gray\")\n",
        "plt.colorbar(label='Distance to Camera')\n",
        "plt.title('Depth image')\n",
        "plt.xlabel('X Pixel')\n",
        "plt.ylabel('Y Pixel')\n",
        "plt.show()"
      ]
    },
    {
      "cell_type": "code",
      "execution_count": null,
      "metadata": {},
      "outputs": [],
      "source": [
        "msh.points"
      ]
    },
    {
      "cell_type": "code",
      "execution_count": null,
      "metadata": {},
      "outputs": [],
      "source": [
        "cpos = [(0.2, 0.1, 0.1), (0.1,0.1,0.1), (0.1, 0.1,0.1)]\n",
        "msh.plot(cpos=cpos)"
      ]
    }
  ],
  "metadata": {
    "kernelspec": {
      "display_name": "Python 3.9.1 64-bit",
      "language": "python",
      "name": "python3"
    },
    "language_info": {
      "codemirror_mode": {
        "name": "ipython",
        "version": 3
      },
      "file_extension": ".py",
      "mimetype": "text/x-python",
      "name": "python",
      "nbconvert_exporter": "python",
      "pygments_lexer": "ipython3",
      "version": "3.9.1"
    },
    "vscode": {
      "interpreter": {
        "hash": "81794d4967e6c3204c66dcd87b604927b115b27c00565d3d43f05ba2f3a2cb0d"
      }
    }
  },
  "nbformat": 4,
  "nbformat_minor": 0
}
